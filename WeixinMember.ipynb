{
 "cells": [
  {
   "cell_type": "code",
   "execution_count": null,
   "id": "2f4d1663",
   "metadata": {},
   "outputs": [],
   "source": [
    "import itchat\n",
    "\n",
    "import openpyxl\n",
    "\n",
    "\n",
    "itchat.login()\n",
    "friends = itchat.get_friends(update=True)[0:]\n",
    "\n"
   ]
  },
  {
   "cell_type": "code",
   "execution_count": null,
   "id": "1f06be9c",
   "metadata": {},
   "outputs": [],
   "source": [
    "friend_data=[]\n",
    "for f in friends[1:]:\n",
    "    userName = f[\"UserName\"]\n",
    "    nickName=f[\"NickName\"]\n",
    "    remarkName=f[\"RemarkName\"]\n",
    "    remarkPYInitial=f[\"RemarkPYInitial\"]\n",
    "    f_d={\n",
    "        \"userName\":f[\"UserName\"]\n",
    "        ,\"nickName\":f[\"NickName\"]\n",
    "        ,\"remarkName\":f[\"RemarkName\"]\n",
    "        ,\"remarkPYInitial\":f[\"RemarkPYInitial\"]\n",
    "    }\n",
    "    list_friends = list(f_d.values())\n",
    "    friend_data.append(list_friends)\n",
    "    \n",
    "wb = openpyxl.Workbook()\n",
    "ws = wb.active\n",
    "ws[\"A1\"] = \"username\"\n",
    "ws[\"B1\"] = \"nickname\"\n",
    "ws[\"C1\"] = \"remarkname\"\n",
    "ws[\"D1\"] = \"remarkPyInitial\"\n",
    "for i in friend_data:\n",
    "    ws.append(i)\n",
    "print(len(friend_data))\n",
    "wb.save(u'./data/weixin.xlsx')\n",
    "    \n",
    "    "
   ]
  },
  {
   "cell_type": "code",
   "execution_count": null,
   "id": "7f0ffb6e",
   "metadata": {},
   "outputs": [],
   "source": [
    "\n",
    "mpsList=itchat.get_mps(update=True)[1:]\n",
    "mpList=[]\n",
    "for it in mpsList:\n",
    "    #print(it['NickName']+':'+it['Signature'])\n",
    "    f_d={\n",
    "        \"NickName\":it[\"NickName\"]\n",
    "        ,\"Signature\":it[\"Signature\"]\n",
    "    }\n",
    "    e_mplist = list(f_d.values())\n",
    "    mpList.append(e_mplist)\n",
    "   \n",
    "wb = openpyxl.Workbook()\n",
    "ws = wb.active\n",
    "ws[\"A1\"] = \"NickName\"\n",
    "ws[\"B1\"] = \"Signature\"\n",
    "for i in mpList:\n",
    "    ws.append(i)\n",
    "print(len(mpList))\n",
    "wb.save(u'./data/weixin_gongzonghao.xlsx')\n",
    "    "
   ]
  },
  {
   "cell_type": "code",
   "execution_count": null,
   "id": "e6b6c3bf",
   "metadata": {},
   "outputs": [],
   "source": [
    "#显示所有的群聊，包括未保存在通讯录中的，如果去掉则只是显示在通讯录中保存的\n",
    "#itchat.dump_login_status()\n",
    "\n",
    "mpsList=itchat.get_chatrooms(update=True)[1:]\n",
    "\n",
    "total=0\n",
    "mpList = []\n",
    "for it in mpsList:\n",
    "    print(it['UserName'])\n",
    "    print(it['NickName'])\n",
    "    print(it['MemberCount'])\n",
    "    \n",
    "    f_d={\n",
    "        \"NickName\":it[\"NickName\"]\n",
    "        ,\"UserName\":it[\"UserName\"]\n",
    "        ,\"MemberCount\":it[\"MemberCount\"]\n",
    "        \n",
    "    }\n",
    "    e_mplist = list(f_d.values())\n",
    "    mpList.append(e_mplist)\n",
    "wb = openpyxl.Workbook()\n",
    "ws = wb.active\n",
    "ws[\"A1\"] = \"NickName\"\n",
    "ws[\"B1\"] = \"UserName\"\n",
    "ws[\"C1\"] = \"MemberCount\"\n",
    "for i in mpList:\n",
    "    ws.append(i)\n",
    "print(len(mpList))\n",
    "wb.save(u'./data/weixin_qunliao.xlsx')    \n",
    "  \n",
    " \n"
   ]
  }
 ],
 "metadata": {
  "kernelspec": {
   "display_name": "Python 3 (ipykernel)",
   "language": "python",
   "name": "python3"
  },
  "language_info": {
   "codemirror_mode": {
    "name": "ipython",
    "version": 3
   },
   "file_extension": ".py",
   "mimetype": "text/x-python",
   "name": "python",
   "nbconvert_exporter": "python",
   "pygments_lexer": "ipython3",
   "version": "3.8.0"
  }
 },
 "nbformat": 4,
 "nbformat_minor": 5
}
